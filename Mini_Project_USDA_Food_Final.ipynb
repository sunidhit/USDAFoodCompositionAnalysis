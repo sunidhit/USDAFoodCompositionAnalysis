{
 "cells": [
  {
   "cell_type": "markdown",
   "metadata": {
    "colab_type": "text",
    "id": "gj11JX0xFaNV"
   },
   "source": [
    "# Mini Project - USDA Food Composition\n",
    "\n",
    "[Data](https://drive.google.com/open?id=1ZSeFZs4PijD1dF6fFw_mYUAUsPawaEmU)\n"
   ]
  },
  {
   "cell_type": "markdown",
   "metadata": {
    "colab_type": "text",
    "id": "LZtX0FNSF0Br"
   },
   "source": [
    "# Step 1: Data Familiarization\n",
    "\n",
    "Read the documentation to familiarize with the content:\n",
    "\n",
    "https://fdc.nal.usda.gov/data-documentation.html\n",
    "\n",
    "* What is this data about?\n",
    "* What kind of information does it contain? \n",
    "* What is the meaning of this information? \n",
    "* How is the data structured? \n",
    "* What fields will I need to use? \n",
    "* What is their meaning? \n",
    "* How are the variables distributed?\n"
   ]
  },
  {
   "cell_type": "code",
   "execution_count": null,
   "metadata": {
    "colab": {
     "base_uri": "https://localhost:8080/",
     "height": 34
    },
    "colab_type": "code",
    "id": "vhe5b3_aBrXu",
    "outputId": "74bd7fa1-231c-47e4-9ebe-39dc082b1d84"
   },
   "outputs": [],
   "source": [
    "import pandas as pd\n",
    "import altair as alt\n",
    "import numpy as np\n",
    "alt.data_transformers.disable_max_rows()\n",
    "# from google.colab import drive\n",
    "# drive.mount('/content/drive', force_remount=True)"
   ]
  },
  {
   "cell_type": "code",
   "execution_count": null,
   "metadata": {
    "colab": {},
    "colab_type": "code",
    "id": "mWfV5KfyB_Bw"
   },
   "outputs": [],
   "source": [
    "data_df = pd.read_csv('usda-grp-nomiss.csv', delimiter=',')\n",
    "data_df.head()"
   ]
  },
  {
   "cell_type": "code",
   "execution_count": null,
   "metadata": {
    "colab": {},
    "colab_type": "code",
    "id": "HEXA2WjrDYKv"
   },
   "outputs": [],
   "source": [
    "cols=[ 'Protein', 'Lipid_Tot', 'Ash', 'Carbohydrt', 'Fiber_TD',\\\n",
    "       'Sugar_Tot', 'Calcium', 'Iron', 'Magnesium', 'Phosphorus', 'Potassium',\\\n",
    "       'Sodium', 'Zinc', 'Copper', 'Manganese', 'Selenium', 'Vit_C', 'Thiamin',\\\n",
    "       'Riboflavin', 'Niacin', 'Panto_Acid', 'Vit_B6', 'Folate_Tot.',\\\n",
    "       'Folic_Acid', 'Food_Folate', 'Folate_DFE', 'Choline_Tot', 'Vit_B12',\\\n",
    "       'Vit_A_IU', 'Vit_A_RAE', 'Retinol', 'Alpha_Carot', 'Beta_Carot',\\\n",
    "       'Beta_Crypt', 'Lycopene', 'Lut.Zea', 'Vit_E', 'Vit_D', 'Vit_D.1',\\\n",
    "       'Vit_K', 'FA_Sat', 'FA_Mono', 'FA_Poly', 'Cholestrl', 'GmWt_1',\\\n",
    "       'GmWt_Desc1', 'GmWt_2', 'GmWt_Desc2', 'Refuse_Pct']\n"
   ]
  },
  {
   "cell_type": "code",
   "execution_count": null,
   "metadata": {
    "colab": {},
    "colab_type": "code",
    "id": "5id3DNp8yO8u"
   },
   "outputs": [],
   "source": [
    "processed = data_df[cols].apply(pd.to_numeric, errors=\"coerce\")\n",
    "processed = processed.replace(np.nan, 0)"
   ]
  },
  {
   "cell_type": "markdown",
   "metadata": {
    "colab_type": "text",
    "id": "gPNoK6Cy3u7O"
   },
   "source": [
    "# Step 2: Answer Data Questions"
   ]
  },
  {
   "cell_type": "markdown",
   "metadata": {
    "colab_type": "text",
    "id": "NZSlFg6E5440"
   },
   "source": [
    "# Set 2\n",
    "\n",
    "Repeat the same 4 steps outlined above focusing on the following subsets of variables:\n",
    "All the macronutrients\n",
    "All the vitamins\n",
    "All the minerals\n"
   ]
  },
  {
   "cell_type": "markdown",
   "metadata": {
    "colab_type": "text",
    "id": "ET-LC_Cptsmw"
   },
   "source": [
    "## Analysis for All Vitamins :"
   ]
  },
  {
   "cell_type": "code",
   "execution_count": null,
   "metadata": {
    "colab": {
     "base_uri": "https://localhost:8080/",
     "height": 364
    },
    "colab_type": "code",
    "id": "YogxXmK5-wct",
    "outputId": "e04f19ec-b607-4a89-c341-5316c9ff2b79"
   },
   "outputs": [],
   "source": [
    "vit_cols=[ 'Folate_Tot.','Folic_Acid','Food_Folate','Folate_DFE','Choline_Tot','Vit_C','Vit_B6','Vit_B12','Vit_A_IU', 'Vit_A_RAE','Vit_E', 'Vit_D', 'Vit_D.1',\\\n",
    "       'Vit_K','Retinol','Alpha_Carot','Beta_Carot','Beta_Crypt','Lycopene','Lut.Zea','Niacin','Riboflavin','Thiamin']    \n",
    "vit_cols"
   ]
  },
  {
   "cell_type": "markdown",
   "metadata": {
    "colab_type": "text",
    "id": "-K4rsbt5tsm1"
   },
   "source": [
    "### Clustering:"
   ]
  },
  {
   "cell_type": "code",
   "execution_count": null,
   "metadata": {
    "colab": {},
    "colab_type": "code",
    "id": "6nX3BcCB-wcy"
   },
   "outputs": [],
   "source": [
    "#Run PCA for dimensionality reduction \n",
    "\n",
    "from sklearn.decomposition import PCA\n",
    "pca = PCA(n_components=2)\n",
    "\n",
    "''' prepare the features for be analyszed '''\n",
    "X = processed[vit_cols].values\n",
    "\n",
    "''' find the first two principal components '''\n",
    "reduced_data = pca.fit_transform(X)\n",
    "# reduced_data"
   ]
  },
  {
   "cell_type": "code",
   "execution_count": null,
   "metadata": {
    "colab": {
     "base_uri": "https://localhost:8080/",
     "height": 368
    },
    "colab_type": "code",
    "id": "qd2wcU1M-wc1",
    "outputId": "767d4ba7-96d1-4e73-f9db-d66964e5da46"
   },
   "outputs": [],
   "source": [
    "rd = pd.DataFrame(data=reduced_data, columns=['x', 'y'])\n",
    "alt.Chart(rd).mark_point().encode(\n",
    "    x='x:Q',\n",
    "    y='y:Q'\n",
    ")"
   ]
  },
  {
   "cell_type": "code",
   "execution_count": null,
   "metadata": {
    "colab": {},
    "colab_type": "code",
    "id": "y2Gb49t9tsm8"
   },
   "outputs": [],
   "source": [
    "#Run Tsne :\n",
    "from sklearn.manifold import TSNE"
   ]
  },
  {
   "cell_type": "code",
   "execution_count": null,
   "metadata": {
    "colab": {
     "base_uri": "https://localhost:8080/",
     "height": 368
    },
    "colab_type": "code",
    "id": "VU7oJOXWtsm_",
    "outputId": "0d32bcff-489b-40cb-e3a6-99f742f12e2e"
   },
   "outputs": [],
   "source": [
    "result_tsne = TSNE(n_components=2).fit_transform(X)\n",
    "\n",
    "tsne_df = pd.DataFrame(data=result_tsne, columns=['x','y'])\n",
    "\n",
    "alt.Chart(tsne_df).mark_point().encode(\n",
    "    x='x:Q',\n",
    "    y='y:Q',\n",
    ")"
   ]
  },
  {
   "cell_type": "code",
   "execution_count": null,
   "metadata": {
    "colab": {
     "base_uri": "https://localhost:8080/",
     "height": 295
    },
    "colab_type": "code",
    "id": "qsavAAvp-wgt",
    "outputId": "e9ce7ee7-8e95-4619-8527-ddd38171219b"
   },
   "outputs": [],
   "source": [
    "#Use Elbow method to decide the clusters \n",
    "import matplotlib.pyplot as plt\n",
    "from sklearn.cluster import KMeans\n",
    "\n",
    "Sum_of_squared_distances = []\n",
    "K = range(1,8)\n",
    "for k in K:\n",
    "    km = KMeans(n_clusters=k)\n",
    "    km = km.fit(rd)\n",
    "    Sum_of_squared_distances.append(km.inertia_)\n",
    "\n",
    "plt.plot(K, Sum_of_squared_distances, 'bx-')\n",
    "plt.xlabel('k')\n",
    "plt.ylabel('Sum_of_squared_distances')\n",
    "plt.title('Elbow Method For Optimal k')\n",
    "plt.show()"
   ]
  },
  {
   "cell_type": "code",
   "execution_count": null,
   "metadata": {
    "colab": {},
    "colab_type": "code",
    "id": "V2T0L0-T-wgw"
   },
   "outputs": [],
   "source": [
    "#Running K-means on PCA reduced data:\n",
    "kmeans = KMeans(n_clusters=10)\n",
    "model= kmeans.fit(rd)\n",
    "labels = kmeans.predict(rd)\n",
    "\n",
    "centers = model.cluster_centers_\n"
   ]
  },
  {
   "cell_type": "code",
   "execution_count": null,
   "metadata": {
    "colab": {
     "base_uri": "https://localhost:8080/",
     "height": 424
    },
    "colab_type": "code",
    "id": "b3_q0KFt-wgz",
    "outputId": "5f55a57d-c415-4f9b-84ac-8025e287837f"
   },
   "outputs": [],
   "source": [
    "#adding the cluster column in data\n",
    "rd.insert(2, \"clusterlabel\", labels, True)\n",
    "rd"
   ]
  },
  {
   "cell_type": "code",
   "execution_count": null,
   "metadata": {
    "colab": {
     "base_uri": "https://localhost:8080/",
     "height": 368
    },
    "colab_type": "code",
    "id": "yNY8Two0-wg2",
    "outputId": "a27a1210-1912-4b2d-da24-d55a64ed0aa5"
   },
   "outputs": [],
   "source": [
    "#Plotting the vitamin data after PCA\n",
    "points = alt.Chart(rd).mark_point().encode(\n",
    "    x='x:Q',\n",
    "    y='y:Q',\n",
    "    color='clusterlabel:N'\n",
    ")\n",
    "\n",
    "points"
   ]
  },
  {
   "cell_type": "code",
   "execution_count": null,
   "metadata": {
    "colab": {},
    "colab_type": "code",
    "id": "uG7Bi5tJtsnQ"
   },
   "outputs": [],
   "source": [
    "#Running K-means on T-SNE reduced data:\n",
    "kmeans = KMeans(n_clusters=12)\n",
    "model= kmeans.fit(tsne_df)\n",
    "labels_tsne = kmeans.predict(tsne_df)\n",
    "\n",
    "centers_tsne = model.cluster_centers_"
   ]
  },
  {
   "cell_type": "code",
   "execution_count": null,
   "metadata": {
    "colab": {
     "base_uri": "https://localhost:8080/",
     "height": 424
    },
    "colab_type": "code",
    "id": "QfI-PcswtsnT",
    "outputId": "9edfd3dc-17d4-4983-c0e4-a5e26017c6d4"
   },
   "outputs": [],
   "source": [
    "#adding the cluster column in data\n",
    "tsne_df.insert(2, \"clusterlabel\", labels_tsne, True)\n",
    "tsne_df"
   ]
  },
  {
   "cell_type": "code",
   "execution_count": null,
   "metadata": {
    "colab": {
     "base_uri": "https://localhost:8080/",
     "height": 368
    },
    "colab_type": "code",
    "id": "4nTF4zIKtsnY",
    "outputId": "6a319c76-10ad-4209-c424-709094297ec0"
   },
   "outputs": [],
   "source": [
    "#Plotting the vitamin data after PCA\n",
    "points = alt.Chart(tsne_df).mark_point().encode(\n",
    "    x='x:Q',\n",
    "    y='y:Q',\n",
    "    color='clusterlabel:N'\n",
    ")\n",
    "\n",
    "points"
   ]
  },
  {
   "cell_type": "markdown",
   "metadata": {
    "colab_type": "text",
    "id": "ZSOHigBbtsnd"
   },
   "source": [
    "### Cluster vs Labels:"
   ]
  },
  {
   "cell_type": "markdown",
   "metadata": {},
   "source": [
    "##### Question : Do food belonging to the same food group fall in the same clusters? \n"
   ]
  },
  {
   "cell_type": "code",
   "execution_count": null,
   "metadata": {
    "colab": {},
    "colab_type": "code",
    "id": "74LQCfjGtsnd"
   },
   "outputs": [],
   "source": [
    "#Plotting clusters according to food group for vitamins afte TSNE\n",
    "data_vitamins = data_df.copy()\n",
    "data_vitamins.insert(2, \"clusterlabel\", labels_tsne, True)"
   ]
  },
  {
   "cell_type": "code",
   "execution_count": null,
   "metadata": {
    "colab": {
     "base_uri": "https://localhost:8080/",
     "height": 243
    },
    "colab_type": "code",
    "id": "61XQ5zOKtsnh",
    "outputId": "cc06f2aa-9c87-43a4-e2dc-fd976edf717f"
   },
   "outputs": [],
   "source": [
    "foodgroupcluster_vitamin = data_vitamins.groupby('FdGrp_Desc')['clusterlabel'].value_counts()\n",
    "foodgroupcluster_vitamin"
   ]
  },
  {
   "cell_type": "code",
   "execution_count": null,
   "metadata": {
    "colab": {
     "base_uri": "https://localhost:8080/",
     "height": 535
    },
    "colab_type": "code",
    "id": "FTB_wGk4tsnk",
    "outputId": "888c527e-109f-43bb-faa1-7b1c5428eaf1"
   },
   "outputs": [],
   "source": [
    "vit=alt.Chart(data_vitamins).mark_bar().encode(\n",
    "    x=alt.X('FdGrp_Desc', sort='-y'),\n",
    "    y=alt.Y('count(clusterlabel)', stack=\"normalize\"),\n",
    "    color='clusterlabel:N'\n",
    ")\n",
    "vit"
   ]
  },
  {
   "cell_type": "markdown",
   "metadata": {
    "colab_type": "text",
    "id": "x69IIPudtsnp"
   },
   "source": [
    "### Interpretation:"
   ]
  },
  {
   "cell_type": "markdown",
   "metadata": {},
   "source": [
    "##### Are there foods that belong to the same food group but fall into different clusters (that is, same food group but different food composition)?"
   ]
  },
  {
   "cell_type": "code",
   "execution_count": null,
   "metadata": {},
   "outputs": [],
   "source": [
    "data_vitamins_processed=data_vitamins[vit_cols].apply(pd.to_numeric, errors=\"coerce\")\n",
    "data_vitamins_processed = data_vitamins_processed.replace(np.nan,0)\n",
    "data_vitamins_processed.head()"
   ]
  },
  {
   "cell_type": "code",
   "execution_count": null,
   "metadata": {
    "colab": {},
    "colab_type": "code",
    "id": "e7f3w9cVtsnt"
   },
   "outputs": [],
   "source": [
    "from sklearn import preprocessing\n",
    "x = data_vitamins_processed.values #returns a numpy array\n",
    "min_max_scaler = preprocessing.MinMaxScaler()\n",
    "x_scaled = min_max_scaler.fit_transform(x)\n",
    "vit_normalized_df = pd.DataFrame(x_scaled)\n",
    "\n",
    "vit_normalized_df = pd.DataFrame(x_scaled, columns = data_vitamins_processed.columns)"
   ]
  },
  {
   "cell_type": "code",
   "execution_count": null,
   "metadata": {
    "colab": {
     "base_uri": "https://localhost:8080/",
     "height": 226
    },
    "colab_type": "code",
    "id": "yA0HWhFEtsnw",
    "outputId": "620da1be-ff76-48f3-b9df-843b496b2a31"
   },
   "outputs": [],
   "source": [
    "#Normalize the data before pdp plot\n",
    "wide_form = vit_normalized_df.reset_index().rename(columns={'index':'id'})\n",
    "wide_form.head()\n"
   ]
  },
  {
   "cell_type": "code",
   "execution_count": null,
   "metadata": {
    "colab": {
     "base_uri": "https://localhost:8080/",
     "height": 191
    },
    "colab_type": "code",
    "id": "__CQg0aBtsn0",
    "outputId": "1c5b5e32-7fea-49ff-f7eb-74f338261026"
   },
   "outputs": [],
   "source": [
    "wide_form.insert(2, \"clusterlabel\", labels_tsne, True)\n",
    "wide_form.columns"
   ]
  },
  {
   "cell_type": "code",
   "execution_count": null,
   "metadata": {
    "colab": {
     "base_uri": "https://localhost:8080/",
     "height": 424
    },
    "colab_type": "code",
    "id": "IgOZ68hQtsn-",
    "outputId": "71e62e59-77ad-454d-e82e-b1630b74d29a"
   },
   "outputs": [],
   "source": [
    "wide_form = wide_form.groupby('clusterlabel').median().reset_index()\n",
    "to_plot = pd.melt(wide_form,id_vars=['id','clusterlabel'],var_name='metrics', value_name='values')\n",
    "\n",
    "to_plot"
   ]
  },
  {
   "cell_type": "code",
   "execution_count": null,
   "metadata": {},
   "outputs": [],
   "source": [
    "#new graph across vitamins\n",
    "#cluster wise spread of nutrients (by median value )\n",
    "alt.Chart(to_plot).mark_line().encode(\n",
    "    x='metrics:N',\n",
    "    y='values:Q',\n",
    "    color='clusterlabel:N',\n",
    ").properties(width=1000, height=300*2)"
   ]
  },
  {
   "cell_type": "code",
   "execution_count": null,
   "metadata": {
    "colab": {
     "base_uri": "https://localhost:8080/",
     "height": 417
    },
    "colab_type": "code",
    "id": "U5j3xoWetsoF",
    "outputId": "43e472e8-140d-4cd7-bd5b-28b3841deaef"
   },
   "outputs": [],
   "source": [
    "#Plotting the PDP by foodgroup - cluster wise and foodgroup spread of nutrients\n",
    "pdp_data = data_df.copy()\n",
    "pdp_data.head()"
   ]
  },
  {
   "cell_type": "code",
   "execution_count": null,
   "metadata": {
    "colab": {
     "base_uri": "https://localhost:8080/",
     "height": 400
    },
    "colab_type": "code",
    "id": "6vwIo_intsoI",
    "outputId": "9334d173-856d-4ee2-c9bf-1cc63aca98be"
   },
   "outputs": [],
   "source": [
    "#normalize data for pdp\n",
    "cols_to_norm = ['Water','Energ_Kcal','Protein', 'Lipid_Tot', 'Ash', 'Carbohydrt', 'Fiber_TD',\\\n",
    "       'Sugar_Tot', 'Calcium', 'Iron', 'Magnesium', 'Phosphorus', 'Potassium',\\\n",
    "       'Sodium', 'Zinc', 'Copper', 'Manganese', 'Selenium', 'Vit_C', 'Thiamin',\\\n",
    "       'Riboflavin', 'Niacin', 'Panto_Acid', 'Vit_B6', 'Folate_Tot.',\\\n",
    "       'Folic_Acid', 'Food_Folate', 'Folate_DFE', 'Choline_Tot', 'Vit_B12',\\\n",
    "       'Vit_A_IU', 'Vit_A_RAE', 'Retinol', 'Alpha_Carot', 'Beta_Carot',\\\n",
    "       'Beta_Crypt', 'Lycopene', 'Lut.Zea', 'Vit_E', 'Vit_D', 'Vit_D.1',\\\n",
    "       'Vit_K', 'FA_Sat', 'FA_Mono', 'FA_Poly', 'Cholestrl', 'GmWt_1',\\\n",
    "       'GmWt_Desc1', 'GmWt_2', 'GmWt_Desc2', 'Refuse_Pct']\n",
    "#x = pdp_data[cols].values #retu\n",
    "pdp_data=pdp_data[cols_to_norm].apply(pd.to_numeric, errors=\"coerce\")\n",
    "pdp_data = pdp_data.replace(np.nan,0)\n",
    "\n",
    "x=pdp_data[cols_to_norm].values\n",
    "min_max_scaler = preprocessing.MinMaxScaler()\n",
    "x_scaled = min_max_scaler.fit_transform(x)\n",
    "pdp_data_normalized = pd.DataFrame(x_scaled)\n",
    "pdp_data_normalized_df = pd.DataFrame(x_scaled, columns = pdp_data.columns)\n",
    "#pdp_data_normalized_df['FdGrp_CD'] = data_df['FdGrp_CD']\n",
    "pdp_data_normalized_df['FdGrp_Desc'] = data_df['FdGrp_Desc']\n",
    "pdp_data_normalized_df['Shrt_Desc'] = data_df['Shrt_Desc']\n",
    "pdp_data_normalized_df.head()"
   ]
  },
  {
   "cell_type": "code",
   "execution_count": null,
   "metadata": {},
   "outputs": [],
   "source": [
    "#normalize data for pdp - vitamins\n",
    "\n",
    "#x = pdp_data[cols].values #retu\n",
    "pdp_data=pdp_data[vit_cols].apply(pd.to_numeric, errors=\"coerce\")\n",
    "pdp_data = pdp_data.replace(np.nan,0)\n",
    "\n",
    "x=pdp_data[vit_cols].values\n",
    "min_max_scaler = preprocessing.MinMaxScaler()\n",
    "x_scaled = min_max_scaler.fit_transform(x)\n",
    "pdp_data_normalized = pd.DataFrame(x_scaled)\n",
    "pdp_data_normalized_df = pd.DataFrame(x_scaled, columns = pdp_data.columns)\n",
    "#pdp_data_normalized_df['FdGrp_CD'] = data_df['FdGrp_CD']\n",
    "pdp_data_normalized_df['FdGrp_Desc'] = data_df['FdGrp_Desc']\n",
    "#pdp_data_normalized_df['Shrt_Desc'] = data_df['Shrt_Desc']\n",
    "pdp_data_normalized_df.head()"
   ]
  },
  {
   "cell_type": "code",
   "execution_count": null,
   "metadata": {
    "colab": {
     "base_uri": "https://localhost:8080/",
     "height": 400
    },
    "colab_type": "code",
    "id": "yoCoujjftsoM",
    "outputId": "0bf49edc-8651-47bc-d44c-4cf0a902ac8b"
   },
   "outputs": [],
   "source": [
    "pdp_data_normalized_df.insert(2, \"clusterlabel\", labels_tsne, True)\n",
    "pdp_data_normalized_df.head()"
   ]
  },
  {
   "cell_type": "code",
   "execution_count": null,
   "metadata": {
    "colab": {
     "base_uri": "https://localhost:8080/",
     "height": 34
    },
    "colab_type": "code",
    "id": "zy3o4jJFtsoP",
    "outputId": "09d3f336-5954-4387-b898-e6034ab0fb4b"
   },
   "outputs": [],
   "source": [
    "\n",
    "wide_form = pdp_data_normalized_df.reset_index().rename(columns={'index':'id'})\n",
    "wide_form.head()\n",
    "# convert from wide-form to long-form directly\n",
    "to_plot = pd.melt(wide_form,id_vars=['id','clusterlabel','FdGrp_Desc'],var_name='metrics', value_name='values')\n",
    "\n",
    "to_plot.shape"
   ]
  },
  {
   "cell_type": "markdown",
   "metadata": {},
   "source": [
    "###### Are there any foods that tend to be different from all the others (that is, they are outliers)? What is unique about them? What makes them unique?For the clusters and outliers identified above, what aspects of their food composition make them different from the others and similar to the food that belong to the same cluster (that is, what makes a cluster (or outlier) unique in terms of their data values and distribution and how does it compare to the other clusters)?\n"
   ]
  },
  {
   "cell_type": "code",
   "execution_count": null,
   "metadata": {},
   "outputs": [],
   "source": [
    "#cluster wise spread of nutrients for each foodgroup by vitamins\n",
    "\n",
    "alt.Chart(to_plot).mark_line(\n",
    "    opacity = 0.2,\n",
    "    strokeWidth = .5\n",
    ").encode(\n",
    "    x='metrics:N',\n",
    "    y='values:Q',\n",
    "    detail='id:N',\n",
    "    row = 'FdGrp_Desc:O',\n",
    "    color=alt.Color('clusterlabel:O', scale=alt.Scale(scheme='rainbow'))\n",
    ").properties(width=500*2,\n",
    "    height=100)"
   ]
  },
  {
   "cell_type": "code",
   "execution_count": null,
   "metadata": {
    "colab": {
     "base_uri": "https://localhost:8080/",
     "height": 1000
    },
    "colab_type": "code",
    "id": "J8Jsp7_3tsoT",
    "outputId": "ade2e843-410c-4ea8-a04e-0d058c0918e7"
   },
   "outputs": [],
   "source": [
    "#cluster wise spread of nutrients for each foodgroup by cluster and color - foodgroup\n",
    "\n",
    "alt.Chart(to_plot).mark_line(\n",
    "    opacity = 0.7,\n",
    "    strokeWidth = .5\n",
    ").encode(\n",
    "    x='metrics:N',\n",
    "    y='values:Q',\n",
    "    detail='id:N',\n",
    "    row = 'clusterlabel:O',\n",
    "    color=alt.Color('FdGrp_Desc:O', scale=alt.Scale(scheme='rainbow'))\n",
    ").properties(width=500*2,\n",
    "    height=100)"
   ]
  },
  {
   "cell_type": "markdown",
   "metadata": {
    "colab_type": "text",
    "id": "DMuaZIcAtsoi"
   },
   "source": [
    "## Analysis for Minerals :"
   ]
  },
  {
   "cell_type": "code",
   "execution_count": null,
   "metadata": {
    "colab": {
     "base_uri": "https://localhost:8080/",
     "height": 191
    },
    "colab_type": "code",
    "id": "xljLJmYPtsoj",
    "outputId": "512c9b91-2209-4f2b-935a-54962cfdaefc"
   },
   "outputs": [],
   "source": [
    "minerals_cols=['Calcium', 'Iron', 'Magnesium', 'Phosphorus', 'Potassium','Sodium', 'Zinc', 'Copper', 'Manganese', 'Selenium','Ash']    \n",
    "minerals_cols"
   ]
  },
  {
   "cell_type": "code",
   "execution_count": null,
   "metadata": {
    "colab": {
     "base_uri": "https://localhost:8080/",
     "height": 368
    },
    "colab_type": "code",
    "id": "xCzx3Ttltsom",
    "outputId": "9ab8a975-e647-4859-ab74-3d39f3820daa"
   },
   "outputs": [],
   "source": [
    "X_minerals = processed[minerals_cols].values\n",
    "result_tsne_mineral = TSNE(n_components=2).fit_transform(X_minerals)\n",
    "\n",
    "tsne_df_mineral = pd.DataFrame(data=result_tsne_mineral, columns=['x','y'])\n",
    "\n",
    "alt.Chart(tsne_df_mineral).mark_point().encode(\n",
    "    x='x:Q',\n",
    "    y='y:Q',\n",
    ")"
   ]
  },
  {
   "cell_type": "markdown",
   "metadata": {
    "colab_type": "text",
    "id": "T3egyZx0tsop"
   },
   "source": [
    "### Clustering:"
   ]
  },
  {
   "cell_type": "code",
   "execution_count": null,
   "metadata": {
    "colab": {},
    "colab_type": "code",
    "id": "XjBwqEYrtsoq"
   },
   "outputs": [],
   "source": [
    "kmeans = KMeans(n_clusters=12)\n",
    "model= kmeans.fit(tsne_df_mineral)\n",
    "labels_tsne_mineral = kmeans.predict(tsne_df_mineral)\n",
    "\n",
    "centers_tsne_mineral = model.cluster_centers_"
   ]
  },
  {
   "cell_type": "code",
   "execution_count": null,
   "metadata": {
    "colab": {
     "base_uri": "https://localhost:8080/",
     "height": 368
    },
    "colab_type": "code",
    "id": "AZ4dUqN0tsos",
    "outputId": "65270cb4-9b33-4f78-aac5-b06ca1b551ee"
   },
   "outputs": [],
   "source": [
    "#adding the cluster column in data\n",
    "tsne_df_mineral.insert(2, \"clusterlabel\", labels_tsne_mineral, True)\n",
    "#tsne_df_mineral\n",
    "points = alt.Chart(tsne_df_mineral).mark_point().encode(\n",
    "    x='x:Q',\n",
    "    y='y:Q',\n",
    "    color='clusterlabel:N'\n",
    ")\n",
    "\n",
    "points"
   ]
  },
  {
   "cell_type": "markdown",
   "metadata": {
    "colab_type": "text",
    "id": "ktFV5-L1tsoy"
   },
   "source": [
    "### Clusters vs labels"
   ]
  },
  {
   "cell_type": "code",
   "execution_count": null,
   "metadata": {
    "colab": {
     "base_uri": "https://localhost:8080/",
     "height": 225
    },
    "colab_type": "code",
    "id": "mNqy85ULtso0",
    "outputId": "6394853f-003e-4e8f-acc9-a7338da56808"
   },
   "outputs": [],
   "source": [
    "#Plotting clusters according to food group for minerals afte TSNE\n",
    "data_minerals = data_df.copy()\n",
    "data_minerals.insert(2, \"clusterlabel\", labels_tsne_mineral, True)\n",
    "data_minerals.columns"
   ]
  },
  {
   "cell_type": "code",
   "execution_count": null,
   "metadata": {
    "colab": {
     "base_uri": "https://localhost:8080/",
     "height": 535
    },
    "colab_type": "code",
    "id": "H44_LIlQtso3",
    "outputId": "d1d5fa7f-1c85-4b6b-9d39-8238a0868843"
   },
   "outputs": [],
   "source": [
    "minerals=alt.Chart(data_minerals).mark_bar().encode(\n",
    "    x=alt.X('FdGrp_Desc', sort='-y'),\n",
    "    y=alt.Y('count(clusterlabel)', stack=\"normalize\"),\n",
    "    color='clusterlabel:N'\n",
    ")\n",
    "minerals"
   ]
  },
  {
   "cell_type": "markdown",
   "metadata": {
    "colab_type": "text",
    "id": "w1vPMECptso9"
   },
   "source": [
    "### Interpretation"
   ]
  },
  {
   "cell_type": "code",
   "execution_count": null,
   "metadata": {},
   "outputs": [],
   "source": [
    "data_minerals_processed=data_minerals[minerals_cols].apply(pd.to_numeric, errors=\"coerce\")\n",
    "data_minerals_processed = data_minerals_processed.replace(np.nan,0)\n",
    "data_minerals_processed.head()"
   ]
  },
  {
   "cell_type": "code",
   "execution_count": null,
   "metadata": {
    "colab": {
     "base_uri": "https://localhost:8080/",
     "height": 226
    },
    "colab_type": "code",
    "id": "XyYAfYUxtspB",
    "outputId": "14886b1d-e823-4adf-8458-2fcf210d2c85"
   },
   "outputs": [],
   "source": [
    "#Normalize the data before pdp plot\n",
    "x_min = data_minerals_processed.values #returns a numpy array\n",
    "min_max_scaler = preprocessing.MinMaxScaler()\n",
    "x_scaled_min = min_max_scaler.fit_transform(x_min)\n",
    "min_normalized_df = pd.DataFrame(x_scaled_min)\n",
    "\n",
    "min_normalized_df = pd.DataFrame(x_scaled_min, columns = data_minerals_processed.columns)\n",
    "min_normalized_df.head()"
   ]
  },
  {
   "cell_type": "code",
   "execution_count": null,
   "metadata": {
    "colab": {
     "base_uri": "https://localhost:8080/",
     "height": 191
    },
    "colab_type": "code",
    "id": "Kir60iAvtspE",
    "outputId": "30010fca-3845-4613-cca2-e2d4b5ab790b"
   },
   "outputs": [],
   "source": [
    "wide_form_min = min_normalized_df.reset_index().rename(columns={'index':'id'})\n",
    "wide_form_min.insert(2, \"clusterlabel\", labels_tsne_mineral, True)\n",
    "wide_form_min.columns"
   ]
  },
  {
   "cell_type": "code",
   "execution_count": null,
   "metadata": {
    "colab": {
     "base_uri": "https://localhost:8080/",
     "height": 424
    },
    "colab_type": "code",
    "id": "VJq-luW0tspI",
    "outputId": "824ffb3f-f2b9-4f05-fbed-b0cfab48284b"
   },
   "outputs": [],
   "source": [
    "wide_form_min = wide_form_min.groupby('clusterlabel').median().reset_index()\n",
    "to_plot_min = pd.melt(wide_form_min,id_vars=['id','clusterlabel'],var_name='metrics', value_name='values')\n",
    "\n",
    "to_plot_min"
   ]
  },
  {
   "cell_type": "code",
   "execution_count": null,
   "metadata": {},
   "outputs": [],
   "source": [
    "#new chart across minerals\n",
    "alt.Chart(to_plot_min).mark_line().encode(\n",
    "    x='metrics:N',\n",
    "    y='values:Q',\n",
    "    color='clusterlabel:N',\n",
    ").properties(width=800, height=300*2)"
   ]
  },
  {
   "cell_type": "code",
   "execution_count": null,
   "metadata": {
    "colab": {
     "base_uri": "https://localhost:8080/",
     "height": 417
    },
    "colab_type": "code",
    "id": "WALevimItspQ",
    "outputId": "2ac9b67c-ee8b-421a-9855-9cf69ca4d986"
   },
   "outputs": [],
   "source": [
    "#Plotting the PDP by foodgroup - cluster wise and foodgroup spread of nutrients\n",
    "pdp_data_mineral = data_df.copy()\n",
    "pdp_data_mineral.head()"
   ]
  },
  {
   "cell_type": "code",
   "execution_count": null,
   "metadata": {
    "colab": {
     "base_uri": "https://localhost:8080/",
     "height": 400
    },
    "colab_type": "code",
    "id": "liln1V-LtspY",
    "outputId": "1b174f24-4339-450f-8cb8-00307aa4e085"
   },
   "outputs": [],
   "source": [
    "#normalize data for pdp\n",
    "cols_to_norm = ['Water','Energ_Kcal','Protein', 'Lipid_Tot', 'Ash', 'Carbohydrt', 'Fiber_TD',\\\n",
    "       'Sugar_Tot', 'Calcium', 'Iron', 'Magnesium', 'Phosphorus', 'Potassium',\\\n",
    "       'Sodium', 'Zinc', 'Copper', 'Manganese', 'Selenium', 'Vit_C', 'Thiamin',\\\n",
    "       'Riboflavin', 'Niacin', 'Panto_Acid', 'Vit_B6', 'Folate_Tot.',\\\n",
    "       'Folic_Acid', 'Food_Folate', 'Folate_DFE', 'Choline_Tot', 'Vit_B12',\\\n",
    "       'Vit_A_IU', 'Vit_A_RAE', 'Retinol', 'Alpha_Carot', 'Beta_Carot',\\\n",
    "       'Beta_Crypt', 'Lycopene', 'Lut.Zea', 'Vit_E', 'Vit_D', 'Vit_D.1',\\\n",
    "       'Vit_K', 'FA_Sat', 'FA_Mono', 'FA_Poly', 'Cholestrl', 'GmWt_1',\\\n",
    "       'GmWt_Desc1', 'GmWt_2', 'GmWt_Desc2', 'Refuse_Pct']\n",
    "#x = pdp_data[cols].values #retu\n",
    "pdp_data_mineral=pdp_data_mineral[cols_to_norm].apply(pd.to_numeric, errors=\"coerce\")\n",
    "pdp_data_mineral = pdp_data_mineral.replace(np.nan,0)\n",
    "\n",
    "x_mineral=pdp_data_mineral[cols_to_norm].values\n",
    "min_max_scaler = preprocessing.MinMaxScaler()\n",
    "x_scaled_min = min_max_scaler.fit_transform(x_mineral)\n",
    "pdp_data_normalized = pd.DataFrame(x_scaled_min)\n",
    "pdp_data_normalized_df = pd.DataFrame(x_scaled_min, columns = pdp_data_mineral.columns)\n",
    "#pdp_data_normalized_df['FdGrp_CD'] = data_df['FdGrp_CD']\n",
    "pdp_data_normalized_df['FdGrp_Desc'] = data_df['FdGrp_Desc']\n",
    "pdp_data_normalized_df['Shrt_Desc'] = data_df['Shrt_Desc']\n",
    "pdp_data_normalized_df.head()"
   ]
  },
  {
   "cell_type": "code",
   "execution_count": null,
   "metadata": {},
   "outputs": [],
   "source": [
    "#normalize data for pdp\n",
    "\n",
    "#x = pdp_data[cols].values #retu\n",
    "pdp_data_mineral=pdp_data_mineral[minerals_cols].apply(pd.to_numeric, errors=\"coerce\")\n",
    "pdp_data_mineral = pdp_data_mineral.replace(np.nan,0)\n",
    "\n",
    "x_mineral=pdp_data_mineral[minerals_cols].values\n",
    "min_max_scaler = preprocessing.MinMaxScaler()\n",
    "x_scaled_min = min_max_scaler.fit_transform(x_mineral)\n",
    "pdp_data_normalized = pd.DataFrame(x_scaled_min)\n",
    "pdp_data_normalized_df = pd.DataFrame(x_scaled_min, columns = pdp_data_mineral.columns)\n",
    "#pdp_data_normalized_df['FdGrp_CD'] = data_df['FdGrp_CD']\n",
    "pdp_data_normalized_df['FdGrp_Desc'] = data_df['FdGrp_Desc']\n",
    "#pdp_data_normalized_df['Shrt_Desc'] = data_df['Shrt_Desc']\n",
    "pdp_data_normalized_df.head()"
   ]
  },
  {
   "cell_type": "code",
   "execution_count": null,
   "metadata": {
    "colab": {
     "base_uri": "https://localhost:8080/",
     "height": 34
    },
    "colab_type": "code",
    "id": "oQdnmpb5tspa",
    "outputId": "26976d62-41fb-4ac5-bd7f-b54602103241"
   },
   "outputs": [],
   "source": [
    "pdp_data_normalized_df.insert(2, \"clusterlabel\", labels_tsne_mineral, True)\n",
    "pdp_data_normalized_df.head()\n",
    "\n",
    "wide_form = pdp_data_normalized_df.reset_index().rename(columns={'index':'id'})\n",
    "wide_form.head()\n",
    "# convert from wide-form to long-form directly\n",
    "to_plot = pd.melt(wide_form,id_vars=['id','clusterlabel','FdGrp_Desc'],var_name='metrics', value_name='values')\n",
    "\n",
    "to_plot.shape"
   ]
  },
  {
   "cell_type": "code",
   "execution_count": null,
   "metadata": {},
   "outputs": [],
   "source": [
    "#cluster wise spread of nutrients for each foodgroup- across minerals content\n",
    "\n",
    "alt.Chart(to_plot).mark_line(\n",
    "    opacity = 0.2,\n",
    "    strokeWidth = .5\n",
    ").encode(\n",
    "    x='metrics:N',\n",
    "    y='values:Q',\n",
    "    detail='id:N',\n",
    "    row = 'FdGrp_Desc:O',\n",
    "    color=alt.Color('clusterlabel:O', scale=alt.Scale(scheme='sinebow'))\n",
    ").properties(width=500*2,\n",
    "    height=100)"
   ]
  },
  {
   "cell_type": "code",
   "execution_count": null,
   "metadata": {},
   "outputs": [],
   "source": [
    "#cluster wise spread of nutrients for each foodgroup- across minerals content with by cluster\n",
    "\n",
    "alt.Chart(to_plot).mark_line(\n",
    "    opacity = 0.7,\n",
    "    strokeWidth = .5\n",
    ").encode(\n",
    "    x='metrics:N',\n",
    "    y='values:Q',\n",
    "    detail='id:N',\n",
    "    row = 'clusterlabel:O',\n",
    "    color=alt.Color('FdGrp_Desc:O', scale=alt.Scale(scheme='sinebow'))\n",
    ").properties(width=500*2,\n",
    "    height=100)"
   ]
  },
  {
   "cell_type": "markdown",
   "metadata": {
    "colab_type": "text",
    "id": "Q6mea07Ptspu"
   },
   "source": [
    "## Analysis for all Macronutrients :"
   ]
  },
  {
   "cell_type": "code",
   "execution_count": null,
   "metadata": {
    "colab": {},
    "colab_type": "code",
    "id": "mKm-uD_8tspu"
   },
   "outputs": [],
   "source": [
    "macronutrients=['Protein', 'Lipid_Tot', 'Carbohydrt', 'Fiber_TD',\\\n",
    "       'Sugar_Tot', 'FA_Sat', 'FA_Mono', 'FA_Poly', 'Cholestrl']    \n"
   ]
  },
  {
   "cell_type": "code",
   "execution_count": null,
   "metadata": {
    "colab": {
     "base_uri": "https://localhost:8080/",
     "height": 368
    },
    "colab_type": "code",
    "id": "L5oCM04Mtspx",
    "outputId": "bde07efa-34bd-492d-d8a2-d4c6a7094122"
   },
   "outputs": [],
   "source": [
    "processed=data_df[macronutrients].apply(pd.to_numeric, errors=\"coerce\")\n",
    "processed = processed.replace(np.nan,0)\n",
    "X_macronutrients = processed[macronutrients].values\n",
    "result_tsne_macro = TSNE(n_components=2).fit_transform(X_macronutrients)\n",
    "\n",
    "tsne_df_macro = pd.DataFrame(data=result_tsne_macro, columns=['x','y'])\n",
    "\n",
    "alt.Chart(tsne_df_macro).mark_point().encode(\n",
    "    x='x:Q',\n",
    "    y='y:Q',\n",
    ")\n",
    "X_macronutrients"
   ]
  },
  {
   "cell_type": "code",
   "execution_count": null,
   "metadata": {
    "colab": {},
    "colab_type": "code",
    "id": "6r1r_lPntsp0"
   },
   "outputs": [],
   "source": [
    "kmeans = KMeans(n_clusters=12)\n",
    "model= kmeans.fit(tsne_df_macro)\n",
    "labels_tsne_macro = kmeans.predict(tsne_df_macro)\n",
    "\n",
    "centers_tsne_macro = model.cluster_centers_"
   ]
  },
  {
   "cell_type": "code",
   "execution_count": null,
   "metadata": {
    "colab": {
     "base_uri": "https://localhost:8080/",
     "height": 368
    },
    "colab_type": "code",
    "id": "OIyx_gM6tsp3",
    "outputId": "1a8bb23c-07b3-4c21-f183-5e294c74869c"
   },
   "outputs": [],
   "source": [
    "#adding the cluster column in data\n",
    "tsne_df_macro.insert(2, \"clusterlabel\", labels_tsne_macro, True)\n",
    "#tsne_df_mineral\n",
    "points = alt.Chart(tsne_df_macro).mark_point().encode(\n",
    "    x='x:Q',\n",
    "    y='y:Q',\n",
    "    color='clusterlabel:N'\n",
    ")\n",
    "\n",
    "points"
   ]
  },
  {
   "cell_type": "markdown",
   "metadata": {
    "colab_type": "text",
    "id": "Co-62hEJtsqA"
   },
   "source": [
    "### Clusters vs labels"
   ]
  },
  {
   "cell_type": "code",
   "execution_count": null,
   "metadata": {
    "colab": {},
    "colab_type": "code",
    "id": "CFfelgcatsqB"
   },
   "outputs": [],
   "source": [
    "#Plotting clusters according to food group for macronutrients afte TSNE\n",
    "data_macro = data_df.copy()\n",
    "data_macro.insert(2, \"clusterlabel\", labels_tsne_macro, True)\n",
    "#for step 3\n"
   ]
  },
  {
   "cell_type": "code",
   "execution_count": null,
   "metadata": {
    "colab": {
     "base_uri": "https://localhost:8080/",
     "height": 535
    },
    "colab_type": "code",
    "id": "EkQ4hZ6ntsqH",
    "outputId": "dd7a3f58-72a5-47c8-e444-6d2cb6f9b43a"
   },
   "outputs": [],
   "source": [
    "all_macro=alt.Chart(data_macro).mark_bar().encode(\n",
    "    x=alt.X('FdGrp_Desc', sort='-y'),\n",
    "    y=alt.Y('count(clusterlabel)', stack=\"normalize\"),\n",
    "    color='clusterlabel:N'\n",
    ")\n",
    "all_macro"
   ]
  },
  {
   "cell_type": "markdown",
   "metadata": {
    "colab_type": "text",
    "id": "S-CmH31htsqO"
   },
   "source": [
    "### Interpretation"
   ]
  },
  {
   "cell_type": "code",
   "execution_count": null,
   "metadata": {
    "colab": {
     "base_uri": "https://localhost:8080/",
     "height": 226
    },
    "colab_type": "code",
    "id": "DF41o7f-tsqO",
    "outputId": "d5bc7129-303c-4bc1-9028-97c34200cba2"
   },
   "outputs": [],
   "source": [
    "data_macro_processed=data_macro[macronutrients].apply(pd.to_numeric, errors=\"coerce\")\n",
    "data_macro_processed = data_macro_processed.replace(np.nan,0)\n",
    "data_macro_processed.head()"
   ]
  },
  {
   "cell_type": "code",
   "execution_count": null,
   "metadata": {
    "colab": {
     "base_uri": "https://localhost:8080/",
     "height": 226
    },
    "colab_type": "code",
    "id": "8aQ8EtImtsqb",
    "outputId": "569aafb3-9cbc-4ed8-8e04-b5874b87d2d7"
   },
   "outputs": [],
   "source": [
    "#Normalize the data before pdp plot\n",
    "x_macro = data_macro_processed.values #returns a numpy array\n",
    "min_max_scaler = preprocessing.MinMaxScaler()\n",
    "x_scaled_macro = min_max_scaler.fit_transform(x_macro)\n",
    "macro_normalized_df = pd.DataFrame(x_scaled_macro)\n",
    "\n",
    "macro_normalized_df = pd.DataFrame(x_scaled_macro, columns = data_macro_processed.columns)\n",
    "macro_normalized_df.head()"
   ]
  },
  {
   "cell_type": "code",
   "execution_count": null,
   "metadata": {
    "colab": {
     "base_uri": "https://localhost:8080/",
     "height": 424
    },
    "colab_type": "code",
    "id": "7WZNfwDgtsqe",
    "outputId": "af8a65b6-0164-4b4d-9f1d-b7a938d56b06"
   },
   "outputs": [],
   "source": [
    "wide_form_macro = macro_normalized_df.reset_index().rename(columns={'index':'id'})\n",
    "wide_form_macro.insert(2, \"clusterlabel\", labels_tsne_macro, True)\n",
    "\n",
    "wide_form_macro.columns\n",
    "wide_form_macro = wide_form_macro.groupby('clusterlabel').median().reset_index()\n",
    "to_plot_macro = pd.melt(wide_form_macro,id_vars=['id','clusterlabel'],var_name='metrics', value_name='values')\n",
    "\n",
    "to_plot_macro"
   ]
  },
  {
   "cell_type": "code",
   "execution_count": null,
   "metadata": {
    "colab": {
     "base_uri": "https://localhost:8080/",
     "height": 726
    },
    "colab_type": "code",
    "id": "UQoSNyqOtsqg",
    "outputId": "12f6d0c4-fd5a-4ed2-e21a-b9b04d08b055"
   },
   "outputs": [],
   "source": [
    "#cluster wise spread of nutrients (by median value )\n",
    "alt.Chart(to_plot_macro).mark_line().encode(\n",
    "    x='metrics:N',\n",
    "    y='values:Q',\n",
    "    color='clusterlabel:N',\n",
    ").properties(width=800, height=300*2)"
   ]
  },
  {
   "cell_type": "code",
   "execution_count": null,
   "metadata": {},
   "outputs": [],
   "source": [
    "pdp_data_macro = data_df.copy()"
   ]
  },
  {
   "cell_type": "code",
   "execution_count": null,
   "metadata": {
    "colab": {
     "base_uri": "https://localhost:8080/",
     "height": 400
    },
    "colab_type": "code",
    "id": "gi83iDG_-wio",
    "outputId": "4d536eb9-bbec-4eed-9c5e-c8cdd14fc820"
   },
   "outputs": [],
   "source": [
    "#Plotting the PDP by foodgroup - cluster wise and foodgroup spread of nutrients\n",
    "\n",
    "#pdp_data_mineral.head()\n",
    "#normalize data for pdp\n",
    "cols_to_norm = ['Water','Energ_Kcal','Protein', 'Lipid_Tot', 'Ash', 'Carbohydrt', 'Fiber_TD',\\\n",
    "       'Sugar_Tot', 'Calcium', 'Iron', 'Magnesium', 'Phosphorus', 'Potassium',\\\n",
    "       'Sodium', 'Zinc', 'Copper', 'Manganese', 'Selenium', 'Vit_C', 'Thiamin',\\\n",
    "       'Riboflavin', 'Niacin', 'Panto_Acid', 'Vit_B6', 'Folate_Tot.',\\\n",
    "       'Folic_Acid', 'Food_Folate', 'Folate_DFE', 'Choline_Tot', 'Vit_B12',\\\n",
    "       'Vit_A_IU', 'Vit_A_RAE', 'Retinol', 'Alpha_Carot', 'Beta_Carot',\\\n",
    "       'Beta_Crypt', 'Lycopene', 'Lut.Zea', 'Vit_E', 'Vit_D', 'Vit_D.1',\\\n",
    "       'Vit_K', 'FA_Sat', 'FA_Mono', 'FA_Poly', 'Cholestrl','Refuse_Pct']\n",
    "#x = pdp_data[cols].values #retu\n",
    "pdp_data_macro=pdp_data_macro[cols_to_norm].apply(pd.to_numeric, errors=\"coerce\")\n",
    "pdp_data_macro = pdp_data_macro.replace(np.nan,0)\n",
    "\n",
    "x=pdp_data_macro[cols_to_norm].values\n",
    "min_max_scaler = preprocessing.MinMaxScaler()\n",
    "x_scaled = min_max_scaler.fit_transform(x)\n",
    "pdp_data_normalized = pd.DataFrame(x_scaled)\n",
    "pdp_data_normalized_df = pd.DataFrame(x_scaled, columns = pdp_data_macro.columns)\n",
    "pdp_data_normalized_df['FdGrp_Desc'] = data_df['FdGrp_Desc']\n",
    "#pdp_data_normalized_df['Shrt_Desc'] = data_df['Shrt_Desc']\n",
    "pdp_data_normalized_df.head()"
   ]
  },
  {
   "cell_type": "code",
   "execution_count": null,
   "metadata": {},
   "outputs": [],
   "source": [
    "cols_to_norm = ['Protein', 'Lipid_Tot', 'Carbohydrt', 'Fiber_TD',\\\n",
    "       'Sugar_Tot', 'FA_Sat', 'FA_Mono', 'FA_Poly', 'Cholestrl']\n",
    "#x = pdp_data[cols].values #retu\n",
    "pdp_data_macro=pdp_data_macro[cols_to_norm].apply(pd.to_numeric, errors=\"coerce\")\n",
    "pdp_data_macro = pdp_data_macro.replace(np.nan,0)\n",
    "\n",
    "x=pdp_data_macro[cols_to_norm].values\n",
    "min_max_scaler = preprocessing.MinMaxScaler()\n",
    "x_scaled = min_max_scaler.fit_transform(x)\n",
    "pdp_data_normalized = pd.DataFrame(x_scaled)\n",
    "pdp_data_normalized_df = pd.DataFrame(x_scaled, columns = pdp_data_macro.columns)\n",
    "pdp_data_normalized_df['FdGrp_Desc'] = data_df['FdGrp_Desc']\n",
    "#pdp_data_normalized_df['Shrt_Desc'] = data_df['Shrt_Desc']\n",
    "pdp_data_normalized_df.head()"
   ]
  },
  {
   "cell_type": "code",
   "execution_count": null,
   "metadata": {
    "colab": {
     "base_uri": "https://localhost:8080/",
     "height": 34
    },
    "colab_type": "code",
    "id": "S9op-bCXtsqm",
    "outputId": "d15e4546-477d-4962-9cb9-dd7b0e2fb2f6"
   },
   "outputs": [],
   "source": [
    "pdp_data_normalized_df.insert(2, \"clusterlabel\", labels_tsne_macro, True)\n",
    "pdp_data_normalized_df.head()\n",
    "\n",
    "wide_form = pdp_data_normalized_df.reset_index().rename(columns={'index':'id'})\n",
    "wide_form.head()\n",
    "# convert from wide-form to long-form directly\n",
    "to_plot = pd.melt(wide_form,id_vars=['id','clusterlabel','FdGrp_Desc'],var_name='metrics', value_name='values')\n",
    "\n",
    "to_plot.shape\n"
   ]
  },
  {
   "cell_type": "code",
   "execution_count": null,
   "metadata": {},
   "outputs": [],
   "source": [
    "#cluster wise spread of nutrients for each foodgroup-macronutrients\n",
    "\n",
    "alt.Chart(to_plot).mark_line(\n",
    "    opacity = 0.7,\n",
    "    strokeWidth = .5\n",
    ").encode(\n",
    "    x='metrics:N',\n",
    "    y='values:Q',\n",
    "    detail='id:N',\n",
    "    row = 'FdGrp_Desc:O',\n",
    "    color=alt.Color('clusterlabel:O', scale=alt.Scale(scheme='rainbow'))\n",
    ").properties(width=500*2,\n",
    "    height=100)"
   ]
  },
  {
   "cell_type": "code",
   "execution_count": null,
   "metadata": {},
   "outputs": [],
   "source": [
    "#cluster wise spread of nutrients for each foodgroup-macronutrients\n",
    "\n",
    "alt.Chart(to_plot).mark_line(\n",
    "    opacity = 0.7,\n",
    "    strokeWidth = .5\n",
    ").encode(\n",
    "    x='metrics:N',\n",
    "    y='values:Q',\n",
    "    detail='id:N',\n",
    "    row = 'clusterlabel:O',\n",
    "    color=alt.Color('FdGrp_Desc:O', scale=alt.Scale(scheme='rainbow'))\n",
    ").properties(width=500*2,\n",
    "    height=100)"
   ]
  },
  {
   "cell_type": "markdown",
   "metadata": {
    "colab_type": "text",
    "id": "f28eOPqCXCcV"
   },
   "source": [
    "#### Set 3:"
   ]
  },
  {
   "cell_type": "code",
   "execution_count": null,
   "metadata": {},
   "outputs": [],
   "source": []
  }
 ],
 "metadata": {
  "colab": {
   "collapsed_sections": [
    "Q6mea07Ptspu"
   ],
   "name": "Mini-Project-USDA-Food-Final.ipynb",
   "provenance": [],
   "toc_visible": true
  },
  "kernelspec": {
   "display_name": "Python 3",
   "language": "python",
   "name": "python3"
  },
  "language_info": {
   "codemirror_mode": {
    "name": "ipython",
    "version": 3
   },
   "file_extension": ".py",
   "mimetype": "text/x-python",
   "name": "python",
   "nbconvert_exporter": "python",
   "pygments_lexer": "ipython3",
   "version": "3.7.5"
  }
 },
 "nbformat": 4,
 "nbformat_minor": 1
}
